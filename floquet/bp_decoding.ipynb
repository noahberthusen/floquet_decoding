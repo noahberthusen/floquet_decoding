{
 "cells": [
  {
   "cell_type": "code",
   "execution_count": 1,
   "metadata": {},
   "outputs": [],
   "source": [
    "import numpy as np\n",
    "from itertools import chain, combinations\n",
    "from scipy import sparse"
   ]
  },
  {
   "cell_type": "code",
   "execution_count": 2,
   "metadata": {},
   "outputs": [],
   "source": [
    "# configuration model\n",
    "# https://en.wikipedia.org/wiki/Configuration_model\n",
    "\n",
    "n = 16\n",
    "deg_v = 3 # w_c. Every bit is in this many checks\n",
    "deg_c = 4 # w_r. Every check has this many bits in it\n",
    "num_checks = (n*deg_v)//deg_c\n",
    "k = n - num_checks\n",
    "\n",
    "vs = np.array([[j for i in range(deg_v)] for j in range(n)]).flatten()\n",
    "cs = np.array([[j for i in range(deg_c)] for j in range(num_checks)]).flatten()\n",
    "\n",
    "H = np.zeros((num_checks, n), dtype=bool)\n",
    "\n",
    "while (vs.size and cs.size):\n",
    "    # choose random 'stub' from each array\n",
    "    double_edge = True\n",
    "    while(double_edge):\n",
    "        v_ind = np.random.randint(0, len(vs))\n",
    "        c_ind = np.random.randint(0, len(cs))\n",
    "\n",
    "        if (H[cs[c_ind]][vs[v_ind]] != 1):\n",
    "            double_edge = False\n",
    "            H[cs[c_ind]][vs[v_ind]] = 1\n",
    "            vs = np.delete(vs, v_ind)\n",
    "            cs =np.delete(cs, c_ind)\n",
    "\n",
    "H = sparse.csc_matrix(H)"
   ]
  },
  {
   "cell_type": "code",
   "execution_count": 3,
   "metadata": {},
   "outputs": [],
   "source": [
    "bit_nbhd = [H[:,i].indices for i in range(H.shape[1])]\n",
    "check_nbhd = [H.tocsr()[i].indices for i in range(H.shape[0])]"
   ]
  },
  {
   "cell_type": "code",
   "execution_count": 4,
   "metadata": {},
   "outputs": [],
   "source": [
    "# hx1 = sparse.kron(H, np.eye(H.shape[1], dtype=bool))\n",
    "# hx2 = sparse.kron(np.eye(H.shape[0], dtype=bool), H.T)\n",
    "# Hx = sparse.csr_matrix(sparse.hstack([hx1, hx2], ))\n",
    "\n",
    "# hz1 = sparse.kron(np.eye(H.shape[1], dtype=bool), H)\n",
    "# hz2 = sparse.kron(H.T, np.eye(H.shape[0], dtype=bool))\n",
    "# Hz = sparse.csr_matrix(sparse.hstack([hz1, hz2]))"
   ]
  },
  {
   "cell_type": "code",
   "execution_count": 35,
   "metadata": {},
   "outputs": [
    {
     "name": "stdout",
     "output_type": "stream",
     "text": [
      "[0, 0, 0, 0, 1, 0, 0, 0, 0, 0, 0, 0, 0, 0, 0, 0]\n",
      "[0 0 0 0 1 0 1 0 0 0 1 0]\n",
      "[0, 0, 0, 0, 0, 0, 1, 1, 0, 0, 0, 0, 0, 1, 0, 0]\n"
     ]
    }
   ],
   "source": [
    "p = 0.05\n",
    "p_mask = 0.1\n",
    "\n",
    "# for i in range(1):\n",
    "e = [1 if np.random.uniform() < p else 0 for i in range(H.shape[1])]\n",
    "mask = [1 if np.random.uniform() < p_mask else 0 for i in range(H.shape[1])]\n",
    "synd = H.dot(e) % 2\n",
    "\n",
    "print(e)\n",
    "print(synd)\n",
    "print(mask)"
   ]
  },
  {
   "cell_type": "code",
   "execution_count": 36,
   "metadata": {},
   "outputs": [
    {
     "data": {
      "text/plain": [
       "[13.328432959968906,\n",
       " 12.32155048146898,\n",
       " 6.384098764284023,\n",
       " 8.380374304604704,\n",
       " -6.155098200067426,\n",
       " 14.059557163773908,\n",
       " 12.773537041708979,\n",
       " 9.996590480252337,\n",
       " 10.171344208894233,\n",
       " 9.787400028008374,\n",
       " 10.713351717509212,\n",
       " 12.354370440427223]"
      ]
     },
     "execution_count": 36,
     "metadata": {},
     "output_type": "execute_result"
    }
   ],
   "source": [
    "def bp(H, synd, p, T):\n",
    "    b2c_messages_t0 = np.copy(H.A) * np.log((1-p)/p)\n",
    "    b2c_messages_t1 = np.copy(b2c_messages_t0)\n",
    "\n",
    "    c2b_messages_t0 = np.zeros(H.shape)\n",
    "    c2b_messages_t1 = np.copy(c2b_messages_t0)\n",
    "\n",
    "    def update_bit_to_check(bit, check):\n",
    "        m = np.log((1-p)/p) + np.sum([c2b_messages_t0[nbr][bit] for nbr in bit_nbhd[bit] if nbr != check])\n",
    "        b2c_messages_t1[check][bit] = m\n",
    "\n",
    "    def update_check_to_bit(bit, check):\n",
    "        m = (1-mask[check]) * (-1)**synd[check] * 2 * np.arctanh(np.prod([np.tanh(b2c_messages_t0[check][nbr]/2) for nbr in check_nbhd[check] if nbr != bit]))\n",
    "        c2b_messages_t1[check][bit] = m\n",
    "\n",
    "\n",
    "    for i in range(T):\n",
    "        for check, nbhd in enumerate(check_nbhd):\n",
    "            for bit in nbhd:\n",
    "                update_check_to_bit(bit, check)\n",
    "        for bit, nbhd in enumerate(bit_nbhd):\n",
    "            for check in nbhd:\n",
    "                update_bit_to_check(bit, check)\n",
    "\n",
    "        b2c_messages_t0 = b2c_messages_t1\n",
    "        c2b_messages_t0 = c2b_messages_t1\n",
    "    # print(np.round(c2b_messages_t1, 2))\n",
    "\n",
    "\n",
    "    return [np.log((1-p)/p) + np.sum([c2b_messages_t1[check][bit] for check in bit_nbhd[bit]]) for bit in range(H.shape[0])]\n",
    "bp(H, synd, p, 4)\n"
   ]
  },
  {
   "cell_type": "code",
   "execution_count": 32,
   "metadata": {},
   "outputs": [
    {
     "name": "stdout",
     "output_type": "stream",
     "text": [
      "[[ 0.    0.    0.    0.    0.    0.    0.    0.    0.    0.    0.    0.\n",
      "   0.01  0.    0.    0.  ]\n",
      " [ 0.    0.    0.    0.    0.    0.    0.   -0.01  0.    0.    0.    0.\n",
      "   0.    0.    0.    0.  ]\n",
      " [ 0.    0.    0.    0.    0.    0.    0.    0.    0.    0.    0.    0.\n",
      "   0.    0.    0.01  0.  ]\n",
      " [ 0.    0.    0.    0.    0.    0.    0.    0.    0.    0.    0.01  0.\n",
      "   0.    0.    0.    0.  ]\n",
      " [ 0.    0.    0.    0.    0.    0.    0.    0.    0.    0.    0.    0.\n",
      "   0.    0.    0.    0.01]\n",
      " [ 0.    0.    0.    0.    0.    0.    0.    0.    0.    0.    0.    0.\n",
      "   0.    0.    0.   -0.01]\n",
      " [ 0.    0.    0.    0.    0.    0.    0.    0.    0.    0.    0.    0.\n",
      "   0.   -0.01  0.    0.  ]\n",
      " [ 0.    0.    0.    0.    0.    0.    0.    0.    0.    0.    0.    0.\n",
      "   0.   -0.01  0.    0.  ]\n",
      " [ 0.    0.    0.    0.    0.    0.    0.    0.    0.    0.    0.    0.\n",
      "   0.    0.01  0.    0.  ]\n",
      " [ 0.    0.    0.    0.    0.    0.    0.    0.    0.    0.    0.    0.01\n",
      "   0.    0.    0.    0.  ]\n",
      " [ 0.    0.    0.    0.    0.    0.    0.    0.    0.    0.    0.    0.\n",
      "   0.    0.    0.    0.01]\n",
      " [ 0.    0.    0.    0.    0.    0.    0.    0.    0.    0.    0.    0.\n",
      "   0.    0.    0.01  0.  ]]\n"
     ]
    }
   ],
   "source": [
    "bit2check = np.zeros(H.shape)\n",
    "\n",
    "for j in range(H.shape[1]):\n",
    "    for ind in H[:,j].indices:\n",
    "        bit2check[ind][j] = np.log((1-p)/p)\n",
    "\n",
    "for i in range(H.shape[0]):\n",
    "    temp = 1.0\n",
    "    for ind in H[i].tocsr().indices:\n",
    "        bit2check[i][ind] = temp\n",
    "        temp *= np.tanh(bit2check[i][ind]/2)\n",
    "\n",
    "    temp = 1.0\n",
    "    for ind in H[i].tocsr().indices[::-1]:\n",
    "        bit2check[i][ind] *= temp\n",
    "        # bit2check[i][ind] = (-1)**synd[i] * np.log((1+bit2check[i][ind])/(1-bit2check[i][ind]))\n",
    "        bit2check[i][ind] = (-1)**synd[i] * np.arctanh(bit2check[i][ind])\n",
    "        temp *= np.tanh(bit2check[i][ind]/2)\n",
    "\n",
    "print(np.round(bit2check, 2))\n"
   ]
  },
  {
   "cell_type": "code",
   "execution_count": 24,
   "metadata": {},
   "outputs": [
    {
     "data": {
      "text/plain": [
       "array([[ 0.  ,  0.  ,  0.  ,  0.  ,  0.  ,  0.  ,  0.  ,  0.  ,  0.  ,\n",
       "         0.  ,  0.  ,  0.  ,  0.01,  0.  ,  0.  ,  0.  ],\n",
       "       [ 0.  ,  0.  ,  0.  ,  0.  ,  0.  ,  0.  ,  0.  ,  0.01,  0.  ,\n",
       "         0.  ,  0.  ,  0.  ,  0.  ,  0.  ,  0.  ,  0.  ],\n",
       "       [ 0.  ,  0.  ,  0.  ,  0.  ,  0.  ,  0.  ,  0.  ,  0.  ,  0.  ,\n",
       "         0.  ,  0.  ,  0.  ,  0.  ,  0.  ,  0.01,  0.  ],\n",
       "       [ 0.  ,  0.  ,  0.  ,  0.  ,  0.  ,  0.  ,  0.  ,  0.  ,  0.  ,\n",
       "         0.  ,  0.01,  0.  ,  0.  ,  0.  ,  0.  ,  0.  ],\n",
       "       [ 0.  ,  0.  ,  0.  ,  0.  ,  0.  ,  0.  ,  0.  ,  0.  ,  0.  ,\n",
       "         0.  ,  0.  ,  0.  ,  0.  ,  0.  ,  0.  ,  0.01],\n",
       "       [ 0.  ,  0.  ,  0.  ,  0.  ,  0.  ,  0.  ,  0.  ,  0.  ,  0.  ,\n",
       "         0.  ,  0.  ,  0.  ,  0.  ,  0.  ,  0.  ,  0.01],\n",
       "       [ 0.  ,  0.  ,  0.  ,  0.  ,  0.  ,  0.  ,  0.  ,  0.  ,  0.  ,\n",
       "         0.  ,  0.  ,  0.  ,  0.  ,  0.01,  0.  ,  0.  ],\n",
       "       [ 0.  ,  0.  ,  0.  ,  0.  ,  0.  ,  0.  ,  0.  ,  0.  ,  0.  ,\n",
       "         0.  ,  0.  ,  0.  ,  0.  ,  0.01,  0.  ,  0.  ],\n",
       "       [ 0.  ,  0.  ,  0.  ,  0.  ,  0.  ,  0.  ,  0.  ,  0.  ,  0.  ,\n",
       "         0.  ,  0.  ,  0.  ,  0.  , -0.01,  0.  ,  0.  ],\n",
       "       [ 0.  ,  0.  ,  0.  ,  0.  ,  0.  ,  0.  ,  0.  ,  0.  ,  0.  ,\n",
       "         0.  ,  0.  , -0.01,  0.  ,  0.  ,  0.  ,  0.  ],\n",
       "       [ 0.  ,  0.  ,  0.  ,  0.  ,  0.  ,  0.  ,  0.  ,  0.  ,  0.  ,\n",
       "         0.  ,  0.  ,  0.  ,  0.  ,  0.  ,  0.  ,  0.01],\n",
       "       [ 0.  ,  0.  ,  0.  ,  0.  ,  0.  ,  0.  ,  0.  ,  0.  ,  0.  ,\n",
       "         0.  ,  0.  ,  0.  ,  0.  ,  0.  , -0.01,  0.  ]])"
      ]
     },
     "execution_count": 24,
     "metadata": {},
     "output_type": "execute_result"
    }
   ],
   "source": [
    "np.round(bit2check, 2)"
   ]
  },
  {
   "cell_type": "code",
   "execution_count": null,
   "metadata": {},
   "outputs": [],
   "source": []
  }
 ],
 "metadata": {
  "kernelspec": {
   "display_name": "qc",
   "language": "python",
   "name": "python3"
  },
  "language_info": {
   "codemirror_mode": {
    "name": "ipython",
    "version": 3
   },
   "file_extension": ".py",
   "mimetype": "text/x-python",
   "name": "python",
   "nbconvert_exporter": "python",
   "pygments_lexer": "ipython3",
   "version": "3.8.17"
  },
  "orig_nbformat": 4
 },
 "nbformat": 4,
 "nbformat_minor": 2
}
